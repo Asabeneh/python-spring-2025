{
 "cells": [
  {
   "cell_type": "code",
   "execution_count": 4,
   "id": "4db89a30-db4c-4948-9c5e-1b0c87906ecc",
   "metadata": {
    "scrolled": true
   },
   "outputs": [],
   "source": [
    "import numpy\n",
    "import pandas\n",
    "import re"
   ]
  },
  {
   "cell_type": "code",
   "execution_count": null,
   "id": "2d7b94dc-186b-4c8d-b974-0e2d89c665a7",
   "metadata": {},
   "outputs": [],
   "source": [
    "print('There is nothing like writing pyhtAon script on Jupyter notebook')"
   ]
  },
  {
   "cell_type": "code",
   "execution_count": null,
   "id": "1b67918e-8e63-4326-8eef-8ec968184c01",
   "metadata": {},
   "outputs": [],
   "source": []
  }
 ],
 "metadata": {
  "kernelspec": {
   "display_name": "Python 3 (ipykernel)",
   "language": "python",
   "name": "python3"
  },
  "language_info": {
   "codemirror_mode": {
    "name": "ipython",
    "version": 3
   },
   "file_extension": ".py",
   "mimetype": "text/x-python",
   "name": "python",
   "nbconvert_exporter": "python",
   "pygments_lexer": "ipython3",
   "version": "3.12.7"
  }
 },
 "nbformat": 4,
 "nbformat_minor": 5
}
